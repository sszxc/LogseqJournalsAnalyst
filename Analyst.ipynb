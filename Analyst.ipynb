{
 "cells": [
  {
   "attachments": {},
   "cell_type": "markdown",
   "metadata": {},
   "source": [
    "# init\n",
    "Date: Dec 24th, 2022  \n",
    "Author: Xuechao Zhang  \n",
    "Description: Load Logseq journals from folder, analysis and play."
   ]
  },
  {
   "cell_type": "code",
   "execution_count": null,
   "metadata": {},
   "outputs": [],
   "source": [
    "import random\n",
    "import matplotlib.pyplot as plt\n",
    "import matplotlib.dates as mdates\n",
    "from pathlib import Path\n",
    "from datetime import datetime\n",
    "\n",
    "class Analyst(object):\n",
    "    def __init__(self, root):\n",
    "        self.root = root\n",
    "        self.date_list = self.get_all_dates()\n",
    "\n",
    "    def get_all_dates(self):\n",
    "        '''过滤文件, 返回所有日期\n",
    "        '''\n",
    "        return [x.stem for x in self.root.glob(\"*.md\") if x.stem[:2] != \"._\"]\n",
    "\n",
    "    def random_date(self):\n",
    "        '''随机返回有效日期\n",
    "        '''\n",
    "        return random.choice(self.date_list)\n",
    "\n",
    "    def get_content(self, date):\n",
    "        '''返回指定日期的内容, 日期格式 \"2020_01_01\"\n",
    "        '''\n",
    "        if date == \"DEBUG\":\n",
    "            return ['- 一点测试代码\\n', '        - 这是第二行日记，看看说了什么。\\n']\n",
    "        f = open(self.root / (date + \".md\"), 'r')\n",
    "        return f.readlines()\n",
    "    \n",
    "    def word_count(self, date):\n",
    "        '''返回指定日期的字数\n",
    "        '''\n",
    "        content = self.get_content(date)\n",
    "        count = 0\n",
    "        for c in content:\n",
    "            c = c.lstrip()  # 去掉左侧缩进(其实是\\t字符)\n",
    "            try:\n",
    "                if c[:2] == \"- \":\n",
    "                    c = c[2:]  # 去掉 \"- \"\n",
    "                if c[-1] == \"\\n\":\n",
    "                    c = c[:-1]  # 去掉 \"\\n\"\n",
    "            except IndexError:\n",
    "                pass\n",
    "            count += len(c)\n",
    "        return count"
   ]
  },
  {
   "attachments": {},
   "cell_type": "markdown",
   "metadata": {},
   "source": [
    "# Show Me the Graphs"
   ]
  },
  {
   "cell_type": "code",
   "execution_count": null,
   "metadata": {},
   "outputs": [],
   "source": [
    "A = Analyst(Path(r\"/Volumes/Logseq_cryptor/journals\"))\n",
    "# A = Analyst(Path(r\"/Users/henry/Downloads/未命名文件夹\"))\n",
    "\n",
    "x = [datetime.strptime(d, '%Y_%m_%d').date() for d in A.date_list]\n",
    "y = [A.word_count(d) for d in A.date_list]"
   ]
  },
  {
   "cell_type": "code",
   "execution_count": null,
   "metadata": {},
   "outputs": [],
   "source": [
    "fig, ax = plt.subplots(dpi=150, figsize=(12, 5))\n",
    "# ax.grid(True)\n",
    "ax.bar(x, y)\n",
    "\n",
    "ax.xaxis.set_major_locator(mdates.MonthLocator(interval=3))\n",
    "ax.xaxis.set_minor_locator(mdates.MonthLocator())\n",
    "ax.xaxis.set_major_formatter(mdates.DateFormatter(\"%Y-%m\"))\n",
    "fig.autofmt_xdate()"
   ]
  },
  {
   "cell_type": "code",
   "execution_count": null,
   "metadata": {},
   "outputs": [],
   "source": [
    "y.index(max(y))"
   ]
  },
  {
   "cell_type": "code",
   "execution_count": null,
   "metadata": {},
   "outputs": [],
   "source": [
    "x[430]"
   ]
  },
  {
   "cell_type": "code",
   "execution_count": null,
   "metadata": {},
   "outputs": [],
   "source": [
    "sum(y)"
   ]
  }
 ],
 "metadata": {
  "kernelspec": {
   "display_name": "base",
   "language": "python",
   "name": "python3"
  },
  "language_info": {
   "codemirror_mode": {
    "name": "ipython",
    "version": 3
   },
   "file_extension": ".py",
   "mimetype": "text/x-python",
   "name": "python",
   "nbconvert_exporter": "python",
   "pygments_lexer": "ipython3",
   "version": "3.9.7"
  },
  "orig_nbformat": 4,
  "vscode": {
   "interpreter": {
    "hash": "06e6f0634cef3c6b4c7215b86c5234fa5d208db2cad8fd7c34c132f10505d637"
   }
  }
 },
 "nbformat": 4,
 "nbformat_minor": 2
}
